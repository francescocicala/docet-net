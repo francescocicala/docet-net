{
 "cells": [
  {
   "cell_type": "code",
   "execution_count": 1,
   "metadata": {},
   "outputs": [],
   "source": [
    "import numpy as np\n",
    "import torch\n",
    "from torch import nn, optim\n",
    "import torch.nn.functional as F\n",
    "\n",
    "from src.models import Net\n",
    "from src.misc import vectorize_weights, get_cardinality, format_to_shapes, teach\n",
    "from IPython import display\n",
    "from torchviz import make_dot"
   ]
  },
  {
   "cell_type": "code",
   "execution_count": 2,
   "metadata": {},
   "outputs": [],
   "source": [
    "# set up the xor data\n",
    "X = torch.tensor([[0, 0], [1, 0], [0, 1], [1, 1]], dtype=torch.float)\n",
    "target = torch.tensor([0, 1, 1, 0], dtype=torch.float).unsqueeze(1)"
   ]
  },
  {
   "cell_type": "code",
   "execution_count": 3,
   "metadata": {},
   "outputs": [
    {
     "name": "stdout",
     "output_type": "stream",
     "text": [
      "Cardinality: 161\n"
     ]
    }
   ],
   "source": [
    "arch = [(2, 40), (40,), (40, 1), (1,)]\n",
    "\n",
    "net = Net(arch)\n",
    "\n",
    "cardinality = get_cardinality(arch)\n",
    "print(\"Cardinality: {}\".format(cardinality))\n",
    "\n",
    "teacher = nn.Sequential(nn.Linear(cardinality, 100),\n",
    "                                     nn.ReLU(),\n",
    "                                     nn.Linear(100, 100),\n",
    "                                     nn.ReLU(),\n",
    "                                     nn.Linear(100, 100),\n",
    "                                     nn.ReLU(),\n",
    "                                     nn.Linear(100, 100),\n",
    "                                     nn.ReLU(), \n",
    "                                     nn.Linear(100, cardinality))"
   ]
  },
  {
   "cell_type": "code",
   "execution_count": 4,
   "metadata": {},
   "outputs": [
    {
     "name": "stdout",
     "output_type": "stream",
     "text": [
      "Epoch: 2100 ~ BCE: 0.00010965594265144318\n"
     ]
    }
   ],
   "source": [
    "criterion = nn.BCEWithLogitsLoss()\n",
    "optimizer = optim.SGD(teacher.parameters(), lr=0.01)\n",
    "    \n",
    "weights = torch.randn(cardinality)\n",
    "for e in range(10000):\n",
    "    new_weights = teacher(weights)\n",
    "    net.set_weights(format_to_shapes(new_weights, arch))\n",
    "    \n",
    "    pred = net(X)    \n",
    "    loss = criterion(pred, target)\n",
    "    \n",
    "    optimizer.zero_grad()\n",
    "    loss.backward()\n",
    "    optimizer.step()\n",
    "    \n",
    "    weights = new_weights.detach()\n",
    "        \n",
    "    if e % 100 == 0:\n",
    "        display.clear_output(wait=True)\n",
    "        print(\"Epoch: {} ~ BCE: {}\".format(e, loss))\n",
    "        \n",
    "    if loss < 0.0001:\n",
    "        break"
   ]
  },
  {
   "cell_type": "code",
   "execution_count": 5,
   "metadata": {},
   "outputs": [
    {
     "name": "stdout",
     "output_type": "stream",
     "text": [
      "tensor([[3.2868e-04],\n",
      "        [9.9996e-01],\n",
      "        [9.9998e-01],\n",
      "        [8.2559e-06]])\n",
      "tensor([[0.],\n",
      "        [1.],\n",
      "        [1.],\n",
      "        [0.]])\n"
     ]
    }
   ],
   "source": [
    "with torch.no_grad():\n",
    "    print(torch.sigmoid(net(X)))\n",
    "    print(target)"
   ]
  },
  {
   "cell_type": "code",
   "execution_count": null,
   "metadata": {},
   "outputs": [],
   "source": []
  }
 ],
 "metadata": {
  "kernelspec": {
   "display_name": "Python 3",
   "language": "python",
   "name": "python3"
  },
  "language_info": {
   "codemirror_mode": {
    "name": "ipython",
    "version": 3
   },
   "file_extension": ".py",
   "mimetype": "text/x-python",
   "name": "python",
   "nbconvert_exporter": "python",
   "pygments_lexer": "ipython3",
   "version": "3.8.2"
  }
 },
 "nbformat": 4,
 "nbformat_minor": 4
}
