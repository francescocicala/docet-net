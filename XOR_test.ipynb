{
 "cells": [
  {
   "cell_type": "markdown",
   "metadata": {},
   "source": [
    "1. La rete (N,W) viene inizializzata, idem per (M, R)\n",
    "2. Si vettorizzano i pesi W, e li si usano come input per la rete (M, R): l'output saranno i nuovi pesi W' per la rete N. Possiamo dire quindi che la rete (M, R) computa la correzione ai pesi W della rete (N, W).\n",
    "3. Usiamo i pesi W' per costruire la nuova rete (N, W')\n",
    "4. Spegnamo i gradienti rispetto a tutti i pesi della rete (N, W'). Ovvero, eliminiamo tutti i pesi W' dal grafo tramite cui pytorch autodifferenzia.\n",
    "5. Diamo il batch X come input a (N, W'), calcolando y e di conseguenza la loss.\n",
    "6. Applichiamo il backward, che calcolerà i gradienti di tutto questo processo (iniziato al punto (2)), rispetto ai pesi R della rete (M, R), e aggiorniamo questi pesi in R'.\n",
    "7. Si riparte dal punto 2, dando come input i pesi W' alla rete (M, R'), computando i nuovi pesi W'', inserendoli nella nuova rete (N, W''), e così via"
   ]
  },
  {
   "cell_type": "code",
   "execution_count": null,
   "metadata": {},
   "outputs": [],
   "source": [
    "import torch\n",
    "from torch import nn, optim\n",
    "import torch.nn.functional as F\n",
    "\n",
    "from src.models import Net, Teacher\n",
    "from src.misc import vectorize_weights, insert_weights"
   ]
  },
  {
   "cell_type": "code",
   "execution_count": null,
   "metadata": {},
   "outputs": [],
   "source": [
    "# set up the xor data\n",
    "X = torch.tensor([[0, 0], [1, 0], [0, 1], [1, 1]], dtype=torch.float)\n",
    "target = torch.tensor([0, 1, 1, 0])"
   ]
  },
  {
   "cell_type": "code",
   "execution_count": null,
   "metadata": {},
   "outputs": [],
   "source": [
    "net = Net()\n",
    "\n",
    "weights = vectorize_weights(net.parameters())\n",
    "net_cardinality = torch.numel(weights)\n",
    "print('Net cardinality: {}'.format(net_cardinality))\n",
    "\n",
    "teacher = Teacher(net_cardinality)"
   ]
  },
  {
   "cell_type": "code",
   "execution_count": null,
   "metadata": {},
   "outputs": [],
   "source": [
    "criterion = nn.BCEWithLogitsLoss()\n",
    "optimizer = optim.SGD(net.parameters(), lr=0.01)\n",
    "        \n",
    "for e in range(1000):\n",
    "    input_weights = vectorize_weights(net.parameters())\n",
    "    new_weights = Teacher(input_weights)\n",
    "    insert_weights(net, new_weights) \n",
    "    pred = net(X)\n",
    "    loss = criterion(pred, y)\n",
    "    optimizer.zero_grad()\n",
    "    loss.backward()\n",
    "    optimizer.step()"
   ]
  },
  {
   "cell_type": "code",
   "execution_count": null,
   "metadata": {},
   "outputs": [],
   "source": [
    "with torch.no_grad():\n",
    "    print(torch.sigmoid(net(X)))\n",
    "    print(y)"
   ]
  }
 ],
 "metadata": {
  "kernelspec": {
   "display_name": "Python 3",
   "language": "python",
   "name": "python3"
  },
  "language_info": {
   "codemirror_mode": {
    "name": "ipython",
    "version": 3
   },
   "file_extension": ".py",
   "mimetype": "text/x-python",
   "name": "python",
   "nbconvert_exporter": "python",
   "pygments_lexer": "ipython3",
   "version": "3.8.2"
  }
 },
 "nbformat": 4,
 "nbformat_minor": 4
}
